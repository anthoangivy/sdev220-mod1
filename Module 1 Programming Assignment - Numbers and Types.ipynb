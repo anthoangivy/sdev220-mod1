{
 "cells": [
  {
   "cell_type": "code",
   "execution_count": 65,
   "id": "798e24ac-1aed-4cbf-8405-3de44ff04cca",
   "metadata": {},
   "outputs": [
    {
     "name": "stdout",
     "output_type": "stream",
     "text": [
      "3600\n"
     ]
    }
   ],
   "source": [
    "s = 60\n",
    "m = 60\n",
    "print(s * m)"
   ]
  },
  {
   "cell_type": "markdown",
   "id": "c66cb55f-4108-4daf-99e5-6ee983aa535e",
   "metadata": {},
   "source": [
    "There are 3600 seconds in an hour."
   ]
  },
  {
   "cell_type": "code",
   "execution_count": 73,
   "id": "95e9884b-daa0-4b96-9d7c-3bbac74e582c",
   "metadata": {},
   "outputs": [
    {
     "name": "stdout",
     "output_type": "stream",
     "text": [
      "3600\n"
     ]
    }
   ],
   "source": [
    "seconds_per_hour = (s * m)\n",
    "print(seconds_per_hour)"
   ]
  },
  {
   "cell_type": "code",
   "execution_count": 67,
   "id": "3cd5d591-9335-4fc3-9167-7f77941a69f4",
   "metadata": {},
   "outputs": [
    {
     "name": "stdout",
     "output_type": "stream",
     "text": [
      "86400\n"
     ]
    }
   ],
   "source": [
    "h = 24\n",
    "print(seconds_per_hour * h)"
   ]
  },
  {
   "cell_type": "markdown",
   "id": "4a987185-a53a-4a4d-ad21-0a6bef3ddb55",
   "metadata": {},
   "source": [
    "There are 86400 seconds in a day."
   ]
  },
  {
   "cell_type": "code",
   "execution_count": 75,
   "id": "654c45ce-31ec-4f1c-9caa-462b4af9f7fc",
   "metadata": {},
   "outputs": [
    {
     "name": "stdout",
     "output_type": "stream",
     "text": [
      "86400\n"
     ]
    }
   ],
   "source": [
    "seconds_per_day = (seconds_per_hour * h)\n",
    "print(seconds_per_day)"
   ]
  },
  {
   "cell_type": "code",
   "execution_count": 69,
   "id": "8e7793ab-e07a-4e8b-bfad-760e7ba21129",
   "metadata": {},
   "outputs": [
    {
     "name": "stdout",
     "output_type": "stream",
     "text": [
      "24.0\n"
     ]
    }
   ],
   "source": [
    "print(seconds_per_day / seconds_per_hour)"
   ]
  },
  {
   "cell_type": "code",
   "execution_count": 71,
   "id": "75b5be27-c819-41c3-8f3b-6dad832fc6d6",
   "metadata": {},
   "outputs": [
    {
     "name": "stdout",
     "output_type": "stream",
     "text": [
      "24\n"
     ]
    }
   ],
   "source": [
    "print(seconds_per_day // seconds_per_hour)"
   ]
  },
  {
   "cell_type": "markdown",
   "id": "ceb0aef2-8ca1-4abf-8160-67bd00cf19be",
   "metadata": {},
   "source": [
    "They are the same value."
   ]
  }
 ],
 "metadata": {
  "kernelspec": {
   "display_name": "Python 3 (ipykernel)",
   "language": "python",
   "name": "python3"
  },
  "language_info": {
   "codemirror_mode": {
    "name": "ipython",
    "version": 3
   },
   "file_extension": ".py",
   "mimetype": "text/x-python",
   "name": "python",
   "nbconvert_exporter": "python",
   "pygments_lexer": "ipython3",
   "version": "3.12.4"
  }
 },
 "nbformat": 4,
 "nbformat_minor": 5
}
